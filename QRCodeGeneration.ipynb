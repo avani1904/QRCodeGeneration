{
  "nbformat": 4,
  "nbformat_minor": 0,
  "metadata": {
    "colab": {
      "provenance": []
    },
    "kernelspec": {
      "name": "python3",
      "display_name": "Python 3"
    },
    "language_info": {
      "name": "python"
    }
  },
  "cells": [
    {
      "cell_type": "code",
      "execution_count": 10,
      "metadata": {
        "id": "UgXJr60l8CWI"
      },
      "outputs": [],
      "source": [
        "#Generation of QR Code in Python"
      ]
    },
    {
      "cell_type": "code",
      "source": [
        "#import the required library\n",
        "import qrcode"
      ],
      "metadata": {
        "id": "ihpoHJSopEXW"
      },
      "execution_count": 11,
      "outputs": []
    },
    {
      "cell_type": "code",
      "source": [
        "#mention what we want to be displayed when the QR code is scanned\n",
        "text = \"https://www.linkedin.com/in/avani-kalburge-9036a8238/\"\n",
        "#create a QR Code image\n",
        "imageqr = qrcode.make(text)"
      ],
      "metadata": {
        "id": "V6mT5PyMpNOg"
      },
      "execution_count": 12,
      "outputs": []
    },
    {
      "cell_type": "code",
      "source": [
        "#save the generated QR Code as a file\n",
        "imageqr.save('MyLinkedin.jpg')"
      ],
      "metadata": {
        "id": "uAQyrSbXpvTq"
      },
      "execution_count": 13,
      "outputs": []
    }
  ]
}